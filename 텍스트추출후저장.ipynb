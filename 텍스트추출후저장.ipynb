{
 "cells": [
  {
   "cell_type": "code",
   "execution_count": 42,
   "metadata": {},
   "outputs": [],
   "source": [
    "from bs4 import BeautifulSoup\n",
    "from selenium import webdriver\n",
    "from selenium.webdriver.common.keys import Keys\n",
    "import time\n",
    "import sys\n",
    "import os"
   ]
  },
  {
   "cell_type": "code",
   "execution_count": 50,
   "metadata": {},
   "outputs": [
    {
     "name": "stdin",
     "output_type": "stream",
     "text": [
      "크롤링 할 키워드를 입력해주세요. 여름 휴양지\n"
     ]
    }
   ],
   "source": [
    "query_txt = input('크롤링 할 키워드를 입력해주세요.')\n",
    "# f_name = input('검색 결과를 저장할 파일경로와 이름을 지정하세요. \\(예:c:\\\\data\\\\test.txt\\):')\n",
    "# step 2. 크롬 드라이버를 사용해서 웹 브라우저를 실행합니다. \n",
    "path = os.getcwd()+'\\\\'+os.listdir()[2]\n",
    "driver = webdriver.Chrome(path)\n",
    "driver.get('https://korean.visitkorea.or.kr/main/main.html')\n",
    "time.sleep(2) # 창이 모두 열릴 때 까지 2초 wait!\n",
    "\n",
    "# step 3. 검색창의 이름을 찾아서 검색어를 입력하고 검색을 실행합니다.\n",
    "# 팝업창(?? button태그 안의 이상한 창 닫기) 닫기 \n",
    "driver.find_element_by_xpath('/html/body/div[5]/div/div/div/button').send_keys(Keys.ENTER) # Keys.ENTER <-- 대문자 ENTER 입력하세요.\n",
    "driver.find_element_by_id('inp_search').click()\n",
    "driver.find_element_by_id('inp_search').send_keys(query_txt)\n",
    "\n",
    "driver.find_element_by_class_name('btn_search').click()\n",
    "\n",
    "# 목표 1: 텍스트를 추출하여 화면에 출력하기 \n",
    "# step 4. 현재 페이지에 있는 내용을 화면에 출력하기 \n",
    "\n",
    "time.sleep(1)\n",
    "full_html = driver.page_source\n",
    "soup = BeautifulSoup(full_html, 'html.parser')\n",
    "content_list = soup.find_all('ul', class_='area_txt')\n",
    "# print(type(content_list))\n",
    "for i in content_list:\n",
    "    print(i.text.strip())\n",
    "    print('\\n')\n",
    "    "
   ]
  },
  {
   "cell_type": "code",
   "execution_count": 48,
   "metadata": {},
   "outputs": [
    {
     "name": "stdout",
     "output_type": "stream",
     "text": [
      "<class 'bs4.element.ResultSet'>\n"
     ]
    }
   ],
   "source": [
    "print(type(content_list))"
   ]
  },
  {
   "cell_type": "code",
   "execution_count": 49,
   "metadata": {},
   "outputs": [],
   "source": [
    "for i in content_list:\n",
    "    print(i)"
   ]
  },
  {
   "cell_type": "code",
   "execution_count": 13,
   "metadata": {},
   "outputs": [
    {
     "data": {
      "text/plain": [
       "['.git',\n",
       " '.ipynb_checkpoints',\n",
       " 'chromedriver.exe',\n",
       " '자동검색기능구현.ipynb',\n",
       " '텍스트추출후저장.ipynb']"
      ]
     },
     "execution_count": 13,
     "metadata": {},
     "output_type": "execute_result"
    }
   ],
   "source": [
    "os.listdir()"
   ]
  },
  {
   "cell_type": "code",
   "execution_count": null,
   "metadata": {},
   "outputs": [],
   "source": []
  }
 ],
 "metadata": {
  "kernelspec": {
   "display_name": "Python 3",
   "language": "python",
   "name": "python3"
  },
  "language_info": {
   "codemirror_mode": {
    "name": "ipython",
    "version": 3
   },
   "file_extension": ".py",
   "mimetype": "text/x-python",
   "name": "python",
   "nbconvert_exporter": "python",
   "pygments_lexer": "ipython3",
   "version": "3.8.6rc1"
  }
 },
 "nbformat": 4,
 "nbformat_minor": 4
}
