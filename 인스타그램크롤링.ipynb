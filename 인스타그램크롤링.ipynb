{
 "cells": [
  {
   "cell_type": "code",
   "execution_count": 21,
   "metadata": {},
   "outputs": [
    {
     "name": "stdin",
     "output_type": "stream",
     "text": [
      "검색할 태그를 입력해 주세요 :  방탄소년단\n"
     ]
    },
    {
     "name": "stdout",
     "output_type": "stream",
     "text": [
      "https://www.instagram.com/p/CG2iYAQFgus/\n",
      "https://www.instagram.com/p/CG2d1UcDYVN/\n",
      "https://www.instagram.com/p/CG2dUZBDa1L/\n",
      "https://www.instagram.com/p/CG2YXt1hYCp/\n",
      "https://www.instagram.com/p/CG2kux0JRY4/\n",
      "https://www.instagram.com/p/CG2UbbtntfC/\n",
      "https://www.instagram.com/p/CG2mGrmHf6E/\n",
      "https://www.instagram.com/p/CG2frQoJt_F/\n",
      "https://www.instagram.com/p/CG2h0PdJhHY/\n",
      "https://www.instagram.com/p/CG2vMkdgi-f/\n",
      "https://www.instagram.com/p/CG2vLbCJuW5/\n",
      "https://www.instagram.com/p/CG2vK9YpLRy/\n",
      "https://www.instagram.com/p/CG2vHDHp6D2/\n",
      "https://www.instagram.com/p/CG2u8fyIdGD/\n",
      "https://www.instagram.com/p/CG2vFE3JLA1/\n",
      "https://www.instagram.com/p/CG2vIWpDjsw/\n",
      "https://www.instagram.com/p/CG2u9FRj-lK/\n",
      "https://www.instagram.com/p/CG2vCclJ14d/\n",
      "https://www.instagram.com/p/CG2vHOZJSb5/\n",
      "https://www.instagram.com/p/CG2vEgYnhJZ/\n",
      "https://www.instagram.com/p/CG2vFHPgVcw/\n",
      "https://www.instagram.com/p/CG2vFCeAo49/\n",
      "https://www.instagram.com/p/CG2vBDOp3Kt/\n",
      "https://www.instagram.com/p/CG2vEdzJjfm/\n",
      "https://www.instagram.com/p/CG2vCfWAnzD/\n",
      "https://www.instagram.com/p/CG2vB5Xn30G/\n",
      "https://www.instagram.com/p/CG2vByojY81/\n",
      "https://www.instagram.com/p/CG2vArgJTKG/\n",
      "https://www.instagram.com/p/CG2umJRHp_8/\n",
      "https://www.instagram.com/p/CG2u_XzlsCy/\n",
      "https://www.instagram.com/p/CG2u_I9Ja4i/\n",
      "https://www.instagram.com/p/CG2u9qHJ2Am/\n",
      "https://www.instagram.com/p/CG2u-XEJ7yE/\n"
     ]
    }
   ],
   "source": [
    "from urllib.request import urlopen\n",
    "from urllib.parse import quote_plus # 아스키코드로 변환시키는 함수\n",
    "from selenium.webdriver.common.keys import Keys\n",
    "from bs4 import BeautifulSoup\n",
    "from selenium import webdriver\n",
    "import time \n",
    "\n",
    "url = 'https://www.instagram.com/explore/tags/'\n",
    "nUrl = input('검색할 태그를 입력해 주세요 : ')\n",
    "searchUrl = url + quote_plus(nUrl)\n",
    "\n",
    "driver = webdriver.Chrome()\n",
    "driver.get(searchUrl)\n",
    "time.sleep(3)\n",
    "\n",
    "# # glyphsSpriteGrey_Close u-__7\n",
    "\n",
    "html = driver.page_source\n",
    "soup = BeautifulSoup(html)\n",
    "\n",
    "driver.find_element_by_css_selector('.glyphsSpriteGrey_Close.u-__7').click()\n",
    "\n",
    "\n",
    "insta = soup.select('.v1Nh3.kIKUG._bz0w')\n",
    "\n",
    "for i in insta:\n",
    "    print('https://www.instagram.com/'+i.a['href'])\n",
    "    \n"
   ]
  },
  {
   "cell_type": "code",
   "execution_count": null,
   "metadata": {},
   "outputs": [],
   "source": []
  }
 ],
 "metadata": {
  "kernelspec": {
   "display_name": "Python 3",
   "language": "python",
   "name": "python3"
  },
  "language_info": {
   "codemirror_mode": {
    "name": "ipython",
    "version": 3
   },
   "file_extension": ".py",
   "mimetype": "text/x-python",
   "name": "python",
   "nbconvert_exporter": "python",
   "pygments_lexer": "ipython3",
   "version": "3.8.6rc1"
  }
 },
 "nbformat": 4,
 "nbformat_minor": 4
}
