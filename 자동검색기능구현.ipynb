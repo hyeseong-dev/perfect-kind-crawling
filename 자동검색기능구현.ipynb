{
 "cells": [
  {
   "cell_type": "code",
   "execution_count": 2,
   "metadata": {},
   "outputs": [],
   "source": [
    "from bs4 import BeautifulSoup\n",
    "from selenium import webdriver\n",
    "from selenium.webdriver.common.keys import Keys\n",
    "import time\n",
    "import os"
   ]
  },
  {
   "cell_type": "code",
   "execution_count": 3,
   "metadata": {},
   "outputs": [],
   "source": [
    "query_txt = '봄여행'\n",
    "\n",
    "url = 'https://korean.visitkorea.or.kr/main/main.html'\n",
    "driver = webdriver.Chrome()\n",
    "driver.get(url)\n",
    "time.sleep(3)\n",
    "\n",
    "# 팝업창(???button 태그의 닫기 버튼 선택후 엔터! 마우스 클릭은 먹통)\n",
    "driver.find_element_by_xpath('/html/body/div[5]/div/div/div/button').send_keys(Keys.ENTER)\n",
    "\n",
    "# 검색창 선택\n",
    "driver.find_element_by_id('inp_search').send_keys(query_txt)\n",
    "driver.find_element_by_id('inp_search').send_keys(Keys.ENTER)"
   ]
  },
  {
   "cell_type": "code",
   "execution_count": 18,
   "metadata": {},
   "outputs": [
    {
     "data": {
      "text/plain": [
       "NoneType"
      ]
     },
     "execution_count": 18,
     "metadata": {},
     "output_type": "execute_result"
    }
   ],
   "source": [
    "type(element)"
   ]
  },
  {
   "cell_type": "code",
   "execution_count": 29,
   "metadata": {},
   "outputs": [
    {
     "name": "stdin",
     "output_type": "stream",
     "text": [
      "검색하고 싶은 키워드? 니기미\n"
     ]
    }
   ],
   "source": [
    "#  구글에서 자동 검색하기\n",
    "query_txt = input('검색하고 싶은 키워드?')\n",
    "\n",
    "driver = webdriver.Chrome()\n",
    "url = 'https://www.google.com'\n",
    "driver.get(url)\n",
    "time.sleep(3)\n",
    "\n",
    "driver.find_element_by_css_selector('.gLFyf.gsfi').send_keys(query_txt)\n",
    "driver.find_element_by_css_selector('.gLFyf.gsfi').send_keys(Keys.ENTER)"
   ]
  },
  {
   "cell_type": "code",
   "execution_count": 33,
   "metadata": {},
   "outputs": [
    {
     "name": "stdin",
     "output_type": "stream",
     "text": [
      "검색 키워드는? 똥구멍\n"
     ]
    }
   ],
   "source": [
    "# 네이버에서 자동 검색 \n",
    "query_txt = input('검색 키워드는?')\n",
    "\n",
    "driver = webdriver.Chrome()\n",
    "url = 'https://naver.com'\n",
    "driver.get(url)\n",
    "time.sleep(3)\n",
    "\n",
    "driver.find_element_by_id('query').click()\n",
    "element = driver.find_element_by_id('query')\n",
    "\n",
    "element.send_keys(query_txt)\n",
    "driver.find_element_by_class_name('ico_search_submit').click()"
   ]
  },
  {
   "cell_type": "code",
   "execution_count": null,
   "metadata": {},
   "outputs": [],
   "source": []
  }
 ],
 "metadata": {
  "kernelspec": {
   "display_name": "Python 3",
   "language": "python",
   "name": "python3"
  },
  "language_info": {
   "codemirror_mode": {
    "name": "ipython",
    "version": 3
   },
   "file_extension": ".py",
   "mimetype": "text/x-python",
   "name": "python",
   "nbconvert_exporter": "python",
   "pygments_lexer": "ipython3",
   "version": "3.8.6rc1"
  }
 },
 "nbformat": 4,
 "nbformat_minor": 4
}
